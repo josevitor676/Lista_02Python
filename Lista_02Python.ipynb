{
  "nbformat": 4,
  "nbformat_minor": 0,
  "metadata": {
    "colab": {
      "provenance": [],
      "authorship_tag": "ABX9TyNIB4+oqlG19SWuEctvp/pj",
      "include_colab_link": true
    },
    "kernelspec": {
      "name": "python3",
      "display_name": "Python 3"
    },
    "language_info": {
      "name": "python"
    }
  },
  "cells": [
    {
      "cell_type": "markdown",
      "metadata": {
        "id": "view-in-github",
        "colab_type": "text"
      },
      "source": [
        "<a href=\"https://colab.research.google.com/github/josevitor676/Lista_02Python/blob/main/Lista_02Python.ipynb\" target=\"_parent\"><img src=\"https://colab.research.google.com/assets/colab-badge.svg\" alt=\"Open In Colab\"/></a>"
      ]
    },
    {
      "cell_type": "markdown",
      "source": [
        "\n",
        "##41.\tLEIA UM NÚMERO INTEIRO E IMPRIMA ATÉ O VALOR 0."
      ],
      "metadata": {
        "id": "9pIDqEmpitYv"
      }
    },
    {
      "cell_type": "code",
      "execution_count": null,
      "metadata": {
        "id": "BAda_6f1iVa_"
      },
      "outputs": [],
      "source": [
        "num = int(input(\" Digite um número \"))\n",
        "\n",
        "for i in range(num, -1, -1):\n",
        "  print(i)"
      ]
    },
    {
      "cell_type": "markdown",
      "source": [
        "#42.\tFAÇA UM PROGRAMA QUE IMPRIME A QUANTIDADE DE NÚMEROS PARES DE 100 ATÉ 200, INCLUINDO- OS."
      ],
      "metadata": {
        "id": "dS3V9PJNkB0C"
      }
    },
    {
      "cell_type": "code",
      "source": [
        "qtd = 0\n",
        "for i in range(100, 201, 2):\n",
        "  qtd += 1\n",
        "print(qtd)"
      ],
      "metadata": {
        "id": "Wm-MW3-okHEK",
        "outputId": "1c5f5aa0-13c1-4cb4-8bea-189c38ebb9ce",
        "colab": {
          "base_uri": "https://localhost:8080/"
        }
      },
      "execution_count": 3,
      "outputs": [
        {
          "output_type": "stream",
          "name": "stdout",
          "text": [
            "51\n"
          ]
        }
      ]
    },
    {
      "cell_type": "markdown",
      "source": [
        "#43.\tFAÇA UM PROGRAMA PARA CONTAR A QUANTIDADE DE NÚMEROS PARES ENTRE DOIS NÚMEROS QUAISQUER"
      ],
      "metadata": {
        "id": "vTZg9GQDkXuC"
      }
    },
    {
      "cell_type": "code",
      "source": [
        "numero1 = int(input(\"Digite um número \"))\n",
        "numero2 = int(input(\"Digite mais um número \"))\n",
        "qtd = 0\n",
        "\n",
        "if numero1 > numero2:\n",
        "  for i in range(numero2, numero1 +1):\n",
        "    if i % 2 == 0:\n",
        "      qtd += 1\n",
        "      print(f'numero par {i}')    \n",
        "  print(f'Quantidade de numeros pares entre {numero1} e {numero2} é {qtd}')\n",
        "elif numero1 < numero2:\n",
        "  for i in range(numero1, numero2 +1):\n",
        "    if i % 2 == 0:\n",
        "      qtd += 1\n",
        "      print(f'numero par {i}') \n",
        "  print(f'Quantidade de numeros pares entre {numero2} e {numero1} é {qtd}')\n",
        "elif numero1 == numero2:\n",
        "   print(\"Numeros Iguais\")"
      ],
      "metadata": {
        "id": "ERfuab5_kY3i"
      },
      "execution_count": null,
      "outputs": []
    },
    {
      "cell_type": "markdown",
      "source": [
        "#Listas"
      ],
      "metadata": {
        "id": "Zrrl33Y3X06i"
      }
    },
    {
      "cell_type": "code",
      "source": [
        "lista = [1,2,3,4]\n",
        "lista.append(5)\n",
        "\n",
        "nova_lista = lista\n",
        "lista.append(6)\n",
        "nova_lista.append(7)\n",
        "\n",
        "frutas = ['goiaba', 'laranja', 'mexirica', 'tomate', 'melancia']\n",
        "for num,fruta in enumerate(frutas):\n",
        "  print(num)\n",
        "  print(fruta)\n",
        "\n",
        "frutas[2] = 'morgote'\n",
        "print(frutas)  \n",
        "\n",
        "'uva' in frutas\n",
        "'morgote' in frutas"
      ],
      "metadata": {
        "id": "0cqNBH4jRu4F"
      },
      "execution_count": null,
      "outputs": []
    },
    {
      "cell_type": "code",
      "source": [
        "for num,fruta in enumerate(frutas):\n",
        "  print(num, fruta)\n",
        "  frutas[num] = fruta.upper() \n",
        "\n"
      ],
      "metadata": {
        "id": "nMgnNufkczKK"
      },
      "execution_count": null,
      "outputs": []
    },
    {
      "cell_type": "code",
      "source": [
        "i = 0\n",
        "for fruta in frutas:\n",
        "  frutas[i] = fruta.lower()\n",
        "  i +=1\n",
        "print(frutas)"
      ],
      "metadata": {
        "id": "IaykmunChJlL"
      },
      "execution_count": null,
      "outputs": []
    },
    {
      "cell_type": "markdown",
      "source": [
        "#Tuplas"
      ],
      "metadata": {
        "id": "WL3Ap20yX9J_"
      }
    },
    {
      "cell_type": "code",
      "source": [
        "times = ('santos', 'real madrid', 'milan', 'liverpool', 'bayern')\n",
        "#type(times)\n",
        "\n",
        "for num,time in enumerate(times):\n",
        "  print(num,'-', time)\n",
        "  print('-'*30)"
      ],
      "metadata": {
        "id": "e57o5l42X_xq"
      },
      "execution_count": null,
      "outputs": []
    },
    {
      "cell_type": "markdown",
      "source": [
        "#Dicionário"
      ],
      "metadata": {
        "id": "dla8Dz8Rhjeb"
      }
    },
    {
      "cell_type": "code",
      "source": [
        "dicionario = {\"nome\": \"julio\", \"idade\": 32, \"time\": \"santos\", \"cor\": \"Amarelo\", \"altura\": 1.78, \"peso\": 90}\n",
        "dicionario['nome']"
      ],
      "metadata": {
        "id": "auukz30shmhj",
        "outputId": "9aa80052-94a5-4db6-dbf8-52eb2283ea1c",
        "colab": {
          "base_uri": "https://localhost:8080/",
          "height": 35
        }
      },
      "execution_count": null,
      "outputs": [
        {
          "output_type": "execute_result",
          "data": {
            "text/plain": [
              "'julio'"
            ],
            "application/vnd.google.colaboratory.intrinsic+json": {
              "type": "string"
            }
          },
          "metadata": {},
          "execution_count": 57
        }
      ]
    },
    {
      "cell_type": "code",
      "source": [
        "dicionario.keys()"
      ],
      "metadata": {
        "id": "WBNC_nCYi1gK"
      },
      "execution_count": null,
      "outputs": []
    },
    {
      "cell_type": "code",
      "source": [
        "dicionario.values()"
      ],
      "metadata": {
        "id": "Y5FdfgdZi8If"
      },
      "execution_count": null,
      "outputs": []
    },
    {
      "cell_type": "code",
      "source": [
        "dicionario.items()"
      ],
      "metadata": {
        "id": "HMDnQvuOjBZx"
      },
      "execution_count": null,
      "outputs": []
    },
    {
      "cell_type": "code",
      "source": [
        "for key in dicionario.keys():\n",
        "  print(key)"
      ],
      "metadata": {
        "id": "rDBndOgvja3a"
      },
      "execution_count": null,
      "outputs": []
    },
    {
      "cell_type": "code",
      "source": [
        "for value in dicionario.values():\n",
        "  print(value)"
      ],
      "metadata": {
        "id": "c1K9sd7mj1tL"
      },
      "execution_count": null,
      "outputs": []
    },
    {
      "cell_type": "code",
      "source": [
        "for key, value in dicionario.items():\n",
        "  print(key, ':', value)"
      ],
      "metadata": {
        "id": "6VJsOABPkKt-"
      },
      "execution_count": null,
      "outputs": []
    },
    {
      "cell_type": "code",
      "source": [
        "dicionario[\"pai\"] = 'vanderlei'"
      ],
      "metadata": {
        "id": "MbiqdVcokuBK"
      },
      "execution_count": null,
      "outputs": []
    },
    {
      "cell_type": "code",
      "source": [
        "dicionario[\"peso\"] = 88"
      ],
      "metadata": {
        "id": "Npd61g7qk82E"
      },
      "execution_count": null,
      "outputs": []
    },
    {
      "cell_type": "code",
      "source": [
        "dicionario"
      ],
      "metadata": {
        "id": "yBUet2d7lJEd"
      },
      "execution_count": null,
      "outputs": []
    },
    {
      "cell_type": "markdown",
      "source": [
        "33.\tELABORE UM ALGORITMO QUE DADA A IDADE DE UM NADADOR CLASSIFICA- O EM UMA DAS SEGUINTES CATEGORIAS: INFANTIL A = 5 - 7 ANOS, INFANTIL B = 8 - 10 ANOS, JUVENIL A = 1 1 - 13 ANOS, JUVENIL B = 14 - 17 ANOS, ADULTO = MAIORES DE 18 ANOS."
      ],
      "metadata": {
        "id": "bLxIvlkAmXUK"
      }
    },
    {
      "cell_type": "code",
      "source": [
        "idade = int(input(\"Digite a idade do nadador \"))\n",
        "idade_nadador = {\n",
        "    \"Infantil A\": [5,6,7],\n",
        "    \"Infantil B\": [8,9,10],\n",
        "    \"Juvenil A\": [11,12,13],\n",
        "    \"Juvenil B\": [14,15,16,17],\n",
        "    \"Adulto\": [x for x in range(18,101)]\n",
        "}\n",
        "for key,value in idade_nadador.items():\n",
        "  if idade in value:\n",
        "    print(key)"
      ],
      "metadata": {
        "id": "qA-JTtAimWwr"
      },
      "execution_count": null,
      "outputs": []
    },
    {
      "cell_type": "markdown",
      "source": [
        "###44 - FAÇA UM PROGRAMA QUE IMPRIME A SOMA DE TODOS OS NÚMEROS PARES ENTRE DOIS NÚMEROS QUAISQUER, INCLUINDO- OS"
      ],
      "metadata": {
        "id": "Z16re9KsCpCx"
      }
    },
    {
      "cell_type": "code",
      "source": [
        "num1 = input(\"Digite um numero: \")\n",
        "num2 = input(\"Digite um numero: \")\n",
        "total = 0\n",
        "if int(num1) < int(num2):\n",
        "    for i in range(int(num1), int(num2) +1):\n",
        "      if i % 2 == 0:\n",
        "        total += i\n",
        "    print(f'A soma de todos os numeros pares entre {num1} e {num2} é {total}')\n",
        "elif int(num1) > int(num2):\n",
        "  for i in range(int(num2), int(num1) +1):\n",
        "    if i % 2 == 0:\n",
        "      total += i\n",
        "  print(f'A soma de todos os numeros pares entre {num1} e {num2} é {total}')\n",
        "elif int(num1) == int(num2):\n",
        "  print(f'Numeros Iguais')\n",
        "\n"
      ],
      "metadata": {
        "id": "JJnYUTZrCwVi"
      },
      "execution_count": null,
      "outputs": []
    },
    {
      "cell_type": "markdown",
      "source": [
        "#### 45 - FAÇA UM PROGRAMA QUE CALCULE O FATORIAL DE UM NÚMERO"
      ],
      "metadata": {
        "id": "hdfYh53AHO9U"
      }
    },
    {
      "cell_type": "code",
      "source": [
        "num = int(input(\"Digite um numero: \"))\n",
        "res=1\n",
        "for i in range(1,num+1):\n",
        "  res *= i\n",
        "print(f'Fatorial de {num} é {res}')\n"
      ],
      "metadata": {
        "id": "dZd88eR8HUHL"
      },
      "execution_count": null,
      "outputs": []
    },
    {
      "cell_type": "markdown",
      "source": [
        "####46 - FAÇA UM PROGRAMA QUE DETERMINE O MOSTRE OS CINCO PRIMEIROS MÚLTIPLOS DE  3, CONSIDERANDO NÚMEROS MAIORES QUE 0.\n"
      ],
      "metadata": {
        "id": "OZNSbOurMFLt"
      }
    },
    {
      "cell_type": "code",
      "source": [
        "\n",
        "for i in range(1,6):\n",
        "  print(f'Os cincos primeiros numeros multiplos de 3 são: 3 x {i} = {i * 3} ')"
      ],
      "metadata": {
        "id": "aPwokLJlMKlN"
      },
      "execution_count": null,
      "outputs": []
    },
    {
      "cell_type": "markdown",
      "source": [
        "####47 - FAÇA UM ALGORITMO UTILIZANDO O COMANDO WHILE QUE MOSTRA UMA CONTAGEM REGRESSIVA NA TELA, INICIANDO EM 10 E TERMINANDO EM  0 . MOSTRAR UMA MENSAGEM “ FIM!”  APÓS A CONTAGEM.\n"
      ],
      "metadata": {
        "id": "v3WaKx5GNqbN"
      }
    },
    {
      "cell_type": "code",
      "source": [
        "contador = 11\n",
        "while contador > 0:\n",
        "  contador -= 1\n",
        "  if contador == -1:\n",
        "    break\n",
        "  print(contador)\n",
        "print('FIM!')\n",
        "  "
      ],
      "metadata": {
        "id": "_EMOqxfHNudc"
      },
      "execution_count": null,
      "outputs": []
    },
    {
      "cell_type": "markdown",
      "source": [
        "####48 - FAÇA UM PROGRAMA QUE PEÇA AO USUÁRIO PARA DIGITAR 10 VALORES E SOME- OS."
      ],
      "metadata": {
        "id": "uNhYAfChPca-"
      }
    },
    {
      "cell_type": "code",
      "source": [
        "soma = []\n",
        "total = 0\n",
        "while True:\n",
        "  num = input(\"Digite um numero: \")\n",
        "  try:\n",
        "    soma.append(float(num))\n",
        "    if len(soma) == 10:\n",
        "      for i in soma:\n",
        "        total += i\n",
        "      print(f'A soma de todos os numeros do array é {total}')\n",
        "      break\n",
        "  except ValueError:\n",
        "    print('Erro - Digite um numero')"
      ],
      "metadata": {
        "id": "s1s34JnuPh7l"
      },
      "execution_count": null,
      "outputs": []
    },
    {
      "cell_type": "markdown",
      "source": [
        "#### 49 - FAÇA UM PROGRAMA QUE LEIA 10 INTEIROS E IMPRIMA SUA MÉDIA"
      ],
      "metadata": {
        "id": "_hLl0_WkRQfO"
      }
    },
    {
      "cell_type": "code",
      "source": [
        "media = []\n",
        "mediaTotal = 0\n",
        "while True:\n",
        "  num = input(\"Digite uma nota: \")\n",
        "  try:\n",
        "    media.append(int(num))\n",
        "    if len(media) == 10:\n",
        "      for i in media:\n",
        "        mediaTotal += i\n",
        "      print(f'A media de todos os numeros do array é {mediaTotal / len(media)}')\n",
        "      break\n",
        "  except ValueError:\n",
        "    print('Erro - Digite uma nota')"
      ],
      "metadata": {
        "id": "xIKwMSWERYqG"
      },
      "execution_count": null,
      "outputs": []
    },
    {
      "cell_type": "markdown",
      "source": [
        "####50 - FAÇA UM PROGRAMA QUE LEIA 10 INTEIROS POSITIVOS, IGNORANDO NAO POSITIVOS, E IMPRIMA SUA MÉDIA."
      ],
      "metadata": {
        "id": "ZWT3HnDlSldO"
      }
    },
    {
      "cell_type": "code",
      "source": [
        "mediaPositivos = []\n",
        "totalPositivos = 0\n",
        "while True:\n",
        "  nota = input(\"Digite uma nota: \")\n",
        "  try:\n",
        "    if int(nota) <= 0:\n",
        "      print(\"Nota invalida\")\n",
        "    else:\n",
        "      mediaPositivos.append(int(nota))\n",
        "      if len(mediaPositivos) == 10:\n",
        "        for i in mediaPositivos:\n",
        "          totalPositivos += i\n",
        "        print(f'A media de notas é {totalPositivos / len(mediaPositivos)}')\n",
        "        break\n",
        "  except ValueError:\n",
        "    print('Erro - Digite uma nota')"
      ],
      "metadata": {
        "id": "kvfMAGwmSpXH"
      },
      "execution_count": null,
      "outputs": []
    }
  ]
}