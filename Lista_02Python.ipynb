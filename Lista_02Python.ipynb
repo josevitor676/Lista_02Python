{
  "nbformat": 4,
  "nbformat_minor": 0,
  "metadata": {
    "colab": {
      "provenance": [],
      "authorship_tag": "ABX9TyMMf3FIaQOK/EuyHSuzP9F+",
      "include_colab_link": true
    },
    "kernelspec": {
      "name": "python3",
      "display_name": "Python 3"
    },
    "language_info": {
      "name": "python"
    }
  },
  "cells": [
    {
      "cell_type": "markdown",
      "metadata": {
        "id": "view-in-github",
        "colab_type": "text"
      },
      "source": [
        "<a href=\"https://colab.research.google.com/github/josevitor676/Lista_02Python/blob/main/Lista_02Python.ipynb\" target=\"_parent\"><img src=\"https://colab.research.google.com/assets/colab-badge.svg\" alt=\"Open In Colab\"/></a>"
      ]
    },
    {
      "cell_type": "markdown",
      "source": [
        "\n",
        "##41.\tLEIA UM NÚMERO INTEIRO E IMPRIMA ATÉ O VALOR 0."
      ],
      "metadata": {
        "id": "9pIDqEmpitYv"
      }
    },
    {
      "cell_type": "code",
      "execution_count": null,
      "metadata": {
        "id": "BAda_6f1iVa_"
      },
      "outputs": [],
      "source": [
        "num = int(input(\" Digite um número \"))\n",
        "\n",
        "for i in range(num, -1, -1):\n",
        "  print(i)"
      ]
    },
    {
      "cell_type": "markdown",
      "source": [
        "#42.\tFAÇA UM PROGRAMA QUE IMPRIME A QUANTIDADE DE NÚMEROS PARES DE 100 ATÉ 200, INCLUINDO- OS."
      ],
      "metadata": {
        "id": "dS3V9PJNkB0C"
      }
    },
    {
      "cell_type": "code",
      "source": [
        "qtd = 0\n",
        "for i in range(100, 201, 2):\n",
        "  print(i)\n",
        "  qtd += 1\n",
        "print(qtd)"
      ],
      "metadata": {
        "id": "Wm-MW3-okHEK"
      },
      "execution_count": null,
      "outputs": []
    },
    {
      "cell_type": "markdown",
      "source": [
        "#43.\tFAÇA UM PROGRAMA PARA CONTAR A QUANTIDADE DE NÚMEROS PARES ENTRE DOIS NÚMEROS QUAISQUER"
      ],
      "metadata": {
        "id": "vTZg9GQDkXuC"
      }
    },
    {
      "cell_type": "code",
      "source": [
        "numero1 = int(input(\"Digite um número \"))\n",
        "numero2 = int(input(\"Digite mais um número \"))\n",
        "qtd = 0\n",
        "\n",
        "if numero1 > numero2:\n",
        "  for i in range(numero2, numero1, 2):\n",
        "    if i % 2 == 0:\n",
        "      print(i)\n",
        "elif numero1 < numero2:\n",
        "  for i in range(numero1, numero2, 2):\n",
        "    if i % 2 == 0:\n",
        "      print(i)\n",
        "elif numero1 == numero2:\n",
        "   print(\"Numeros Iguais\")"
      ],
      "metadata": {
        "colab": {
          "base_uri": "https://localhost:8080/"
        },
        "id": "ERfuab5_kY3i",
        "outputId": "55794b44-77ed-4d53-95f7-c89b76a5b460"
      },
      "execution_count": 38,
      "outputs": [
        {
          "name": "stdout",
          "output_type": "stream",
          "text": [
            "Digite um número 15\n",
            "Digite mais um número 3\n"
          ]
        }
      ]
    },
    {
      "cell_type": "code",
      "source": [],
      "metadata": {
        "id": "S25SC20do4vw"
      },
      "execution_count": null,
      "outputs": []
    }
  ]
}