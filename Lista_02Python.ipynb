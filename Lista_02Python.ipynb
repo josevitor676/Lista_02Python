{
  "nbformat": 4,
  "nbformat_minor": 0,
  "metadata": {
    "colab": {
      "provenance": [],
      "authorship_tag": "ABX9TyN6456XQEFtpSmnnss5wK+n",
      "include_colab_link": true
    },
    "kernelspec": {
      "name": "python3",
      "display_name": "Python 3"
    },
    "language_info": {
      "name": "python"
    }
  },
  "cells": [
    {
      "cell_type": "markdown",
      "metadata": {
        "id": "view-in-github",
        "colab_type": "text"
      },
      "source": [
        "<a href=\"https://colab.research.google.com/github/josevitor676/Lista_02Python/blob/main/Lista_02Python.ipynb\" target=\"_parent\"><img src=\"https://colab.research.google.com/assets/colab-badge.svg\" alt=\"Open In Colab\"/></a>"
      ]
    },
    {
      "cell_type": "markdown",
      "source": [
        "\n",
        "##41.\tLEIA UM NÚMERO INTEIRO E IMPRIMA ATÉ O VALOR 0."
      ],
      "metadata": {
        "id": "9pIDqEmpitYv"
      }
    },
    {
      "cell_type": "code",
      "execution_count": null,
      "metadata": {
        "id": "BAda_6f1iVa_"
      },
      "outputs": [],
      "source": [
        "num = int(input(\" Digite um número \"))\n",
        "\n",
        "for i in range(num, -1, -1):\n",
        "  print(i)"
      ]
    },
    {
      "cell_type": "markdown",
      "source": [
        "#42.\tFAÇA UM PROGRAMA QUE IMPRIME A QUANTIDADE DE NÚMEROS PARES DE 100 ATÉ 200, INCLUINDO- OS."
      ],
      "metadata": {
        "id": "dS3V9PJNkB0C"
      }
    },
    {
      "cell_type": "code",
      "source": [
        "qtd = 0\n",
        "for i in range(100, 201, 2):\n",
        "  print(i)\n",
        "  qtd += 1\n",
        "print(qtd)"
      ],
      "metadata": {
        "id": "Wm-MW3-okHEK"
      },
      "execution_count": null,
      "outputs": []
    },
    {
      "cell_type": "markdown",
      "source": [
        "#43.\tFAÇA UM PROGRAMA PARA CONTAR A QUANTIDADE DE NÚMEROS PARES ENTRE DOIS NÚMEROS QUAISQUER"
      ],
      "metadata": {
        "id": "vTZg9GQDkXuC"
      }
    },
    {
      "cell_type": "code",
      "source": [
        "numero1 = int(input(\"Digite um número \"))\n",
        "numero2 = int(input(\"Digite mais um número \"))\n",
        "qtd = 0\n",
        "\n",
        "if numero1 > numero2:\n",
        "  for i in range(numero2, numero1, 2):\n",
        "    if i % 2 == 0:\n",
        "      print(i)\n",
        "elif numero1 < numero2:\n",
        "  for i in range(numero1, numero2, 2):\n",
        "    if i % 2 == 0:\n",
        "      print(i)\n",
        "elif numero1 == numero2:\n",
        "   print(\"Numeros Iguais\")"
      ],
      "metadata": {
        "id": "ERfuab5_kY3i"
      },
      "execution_count": null,
      "outputs": []
    },
    {
      "cell_type": "markdown",
      "source": [
        "#Listas"
      ],
      "metadata": {
        "id": "Zrrl33Y3X06i"
      }
    },
    {
      "cell_type": "code",
      "source": [
        "lista = [1,2,3,4]\n",
        "lista.append(5)\n",
        "\n",
        "nova_lista = lista\n",
        "lista.append(6)\n",
        "nova_lista.append(7)\n",
        "\n",
        "frutas = ['goiaba', 'laranja', 'mexirica', 'tomate', 'melancia']\n",
        "for num,fruta in enumerate(frutas):\n",
        "  print(num)\n",
        "  print(fruta)\n",
        "\n",
        "frutas[2] = 'morgote'\n",
        "print(frutas)  \n",
        "\n",
        "'uva' in frutas\n",
        "'morgote' in frutas"
      ],
      "metadata": {
        "id": "0cqNBH4jRu4F"
      },
      "execution_count": null,
      "outputs": []
    },
    {
      "cell_type": "code",
      "source": [
        "for num,fruta in enumerate(frutas):\n",
        "  print(num, fruta)\n",
        "  frutas[num] = fruta.upper() \n",
        "\n"
      ],
      "metadata": {
        "id": "nMgnNufkczKK"
      },
      "execution_count": null,
      "outputs": []
    },
    {
      "cell_type": "code",
      "source": [
        "i = 0\n",
        "for fruta in frutas:\n",
        "  frutas[i] = fruta.lower()\n",
        "  i +=1\n",
        "print(frutas)"
      ],
      "metadata": {
        "id": "IaykmunChJlL"
      },
      "execution_count": null,
      "outputs": []
    },
    {
      "cell_type": "markdown",
      "source": [
        "#Tuplas"
      ],
      "metadata": {
        "id": "WL3Ap20yX9J_"
      }
    },
    {
      "cell_type": "code",
      "source": [
        "times = ('santos', 'real madrid', 'milan', 'liverpool', 'bayern')\n",
        "#type(times)\n",
        "\n",
        "for num,time in enumerate(times):\n",
        "  print(num,'-', time)\n",
        "  print('-'*30)"
      ],
      "metadata": {
        "id": "e57o5l42X_xq"
      },
      "execution_count": null,
      "outputs": []
    },
    {
      "cell_type": "markdown",
      "source": [
        "#Dicionário"
      ],
      "metadata": {
        "id": "dla8Dz8Rhjeb"
      }
    },
    {
      "cell_type": "code",
      "source": [
        "dicionario = {\"nome\": \"julio\", \"idade\": 32, \"time\": \"santos\", \"cor\": \"Amarelo\", \"altura\": 1.78, \"peso\": 90}\n",
        "dicionario['nome']"
      ],
      "metadata": {
        "id": "auukz30shmhj",
        "outputId": "9aa80052-94a5-4db6-dbf8-52eb2283ea1c",
        "colab": {
          "base_uri": "https://localhost:8080/",
          "height": 35
        }
      },
      "execution_count": 57,
      "outputs": [
        {
          "output_type": "execute_result",
          "data": {
            "text/plain": [
              "'julio'"
            ],
            "application/vnd.google.colaboratory.intrinsic+json": {
              "type": "string"
            }
          },
          "metadata": {},
          "execution_count": 57
        }
      ]
    },
    {
      "cell_type": "code",
      "source": [
        "dicionario.keys()"
      ],
      "metadata": {
        "id": "WBNC_nCYi1gK"
      },
      "execution_count": null,
      "outputs": []
    },
    {
      "cell_type": "code",
      "source": [
        "dicionario.values()"
      ],
      "metadata": {
        "id": "Y5FdfgdZi8If"
      },
      "execution_count": null,
      "outputs": []
    },
    {
      "cell_type": "code",
      "source": [
        "dicionario.items()"
      ],
      "metadata": {
        "id": "HMDnQvuOjBZx"
      },
      "execution_count": null,
      "outputs": []
    },
    {
      "cell_type": "code",
      "source": [
        "for key in dicionario.keys():\n",
        "  print(key)"
      ],
      "metadata": {
        "id": "rDBndOgvja3a"
      },
      "execution_count": null,
      "outputs": []
    },
    {
      "cell_type": "code",
      "source": [
        "for value in dicionario.values():\n",
        "  print(value)"
      ],
      "metadata": {
        "id": "c1K9sd7mj1tL"
      },
      "execution_count": null,
      "outputs": []
    },
    {
      "cell_type": "code",
      "source": [
        "for key, value in dicionario.items():\n",
        "  print(key, ':', value)"
      ],
      "metadata": {
        "id": "6VJsOABPkKt-"
      },
      "execution_count": null,
      "outputs": []
    },
    {
      "cell_type": "code",
      "source": [
        "dicionario[\"pai\"] = 'vanderlei'"
      ],
      "metadata": {
        "id": "MbiqdVcokuBK"
      },
      "execution_count": 69,
      "outputs": []
    },
    {
      "cell_type": "code",
      "source": [
        "dicionario[\"peso\"] = 88"
      ],
      "metadata": {
        "id": "Npd61g7qk82E"
      },
      "execution_count": 71,
      "outputs": []
    },
    {
      "cell_type": "code",
      "source": [
        "dicionario"
      ],
      "metadata": {
        "id": "yBUet2d7lJEd"
      },
      "execution_count": null,
      "outputs": []
    },
    {
      "cell_type": "markdown",
      "source": [
        "33.\tELABORE UM ALGORITMO QUE DADA A IDADE DE UM NADADOR CLASSIFICA- O EM UMA DAS SEGUINTES CATEGORIAS: INFANTIL A = 5 - 7 ANOS, INFANTIL B = 8 - 10 ANOS, JUVENIL A = 1 1 - 13 ANOS, JUVENIL B = 14 - 17 ANOS, ADULTO = MAIORES DE 18 ANOS."
      ],
      "metadata": {
        "id": "bLxIvlkAmXUK"
      }
    },
    {
      "cell_type": "code",
      "source": [
        "idade = int(input(\"Digite a idade do nadador \"))\n",
        "idade_nadador = {\n",
        "    \"Infantil A\": [5,6,7],\n",
        "    \"Infantil B\": [8,9,10],\n",
        "    \"Juvenil A\": [11,12,13],\n",
        "    \"Juvenil B\": [14,15,16,17],\n",
        "    \"Adulto\": [x for x in range(18,101)]\n",
        "}\n",
        "for key,value in idade_nadador.items():\n",
        "  if idade in value:\n",
        "    print(key)"
      ],
      "metadata": {
        "id": "qA-JTtAimWwr"
      },
      "execution_count": null,
      "outputs": []
    }
  ]
}