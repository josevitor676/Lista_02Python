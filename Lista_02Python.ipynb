{
  "nbformat": 4,
  "nbformat_minor": 0,
  "metadata": {
    "colab": {
      "provenance": [],
      "authorship_tag": "ABX9TyO/RRXdsG/OgKNLC7/RdkV6",
      "include_colab_link": true
    },
    "kernelspec": {
      "name": "python3",
      "display_name": "Python 3"
    },
    "language_info": {
      "name": "python"
    }
  },
  "cells": [
    {
      "cell_type": "markdown",
      "metadata": {
        "id": "view-in-github",
        "colab_type": "text"
      },
      "source": [
        "<a href=\"https://colab.research.google.com/github/josevitor676/Lista_02Python/blob/main/Lista_02Python.ipynb\" target=\"_parent\"><img src=\"https://colab.research.google.com/assets/colab-badge.svg\" alt=\"Open In Colab\"/></a>"
      ]
    },
    {
      "cell_type": "markdown",
      "source": [
        "\n",
        "##41.\tLEIA UM NÚMERO INTEIRO E IMPRIMA ATÉ O VALOR 0."
      ],
      "metadata": {
        "id": "9pIDqEmpitYv"
      }
    },
    {
      "cell_type": "code",
      "execution_count": null,
      "metadata": {
        "id": "BAda_6f1iVa_",
        "outputId": "7907be43-a0d8-43bd-a8bd-bce7e3bb9261",
        "colab": {
          "base_uri": "https://localhost:8080/"
        }
      },
      "outputs": [
        {
          "output_type": "stream",
          "name": "stdout",
          "text": [
            " Digite um número 5\n",
            "5\n",
            "4\n",
            "3\n",
            "2\n",
            "1\n",
            "0\n"
          ]
        }
      ],
      "source": [
        "num = int(input(\" Digite um número \"))\n",
        "\n",
        "for i in range(num, -1, -1):\n",
        "  print(i)"
      ]
    },
    {
      "cell_type": "markdown",
      "source": [
        "#42.\tFAÇA UM PROGRAMA QUE IMPRIME A QUANTIDADE DE NÚMEROS PARES DE 100 ATÉ 200, INCLUINDO- OS."
      ],
      "metadata": {
        "id": "dS3V9PJNkB0C"
      }
    },
    {
      "cell_type": "code",
      "source": [
        "qtd = 0\n",
        "for i in range(100, 201, 2):\n",
        "  qtd += 1\n",
        "print(qtd)"
      ],
      "metadata": {
        "id": "Wm-MW3-okHEK"
      },
      "execution_count": null,
      "outputs": []
    },
    {
      "cell_type": "markdown",
      "source": [
        "#43.\tFAÇA UM PROGRAMA PARA CONTAR A QUANTIDADE DE NÚMEROS PARES ENTRE DOIS NÚMEROS QUAISQUER"
      ],
      "metadata": {
        "id": "vTZg9GQDkXuC"
      }
    },
    {
      "cell_type": "code",
      "source": [
        "numero1 = int(input(\"Digite um número \"))\n",
        "numero2 = int(input(\"Digite mais um número \"))\n",
        "qtd = 0\n",
        "\n",
        "if numero1 > numero2:\n",
        "  for i in range(numero2, numero1 +1):\n",
        "    if i % 2 == 0:\n",
        "      qtd += 1\n",
        "      print(f'numero par {i}')    \n",
        "  print(f'Quantidade de numeros pares entre {numero1} e {numero2} é {qtd}')\n",
        "elif numero1 < numero2:\n",
        "  for i in range(numero1, numero2 +1):\n",
        "    if i % 2 == 0:\n",
        "      qtd += 1\n",
        "      print(f'numero par {i}') \n",
        "  print(f'Quantidade de numeros pares entre {numero2} e {numero1} é {qtd}')\n",
        "elif numero1 == numero2:\n",
        "   print(\"Numeros Iguais\")"
      ],
      "metadata": {
        "id": "ERfuab5_kY3i"
      },
      "execution_count": null,
      "outputs": []
    },
    {
      "cell_type": "markdown",
      "source": [
        "#Listas"
      ],
      "metadata": {
        "id": "Zrrl33Y3X06i"
      }
    },
    {
      "cell_type": "code",
      "source": [
        "lista = [1,2,3,4]\n",
        "lista.append(5)\n",
        "\n",
        "nova_lista = lista\n",
        "lista.append(6)\n",
        "nova_lista.append(7)\n",
        "\n",
        "frutas = ['goiaba', 'laranja', 'mexirica', 'tomate', 'melancia']\n",
        "for num,fruta in enumerate(frutas):\n",
        "  print(num)\n",
        "  print(fruta)\n",
        "\n",
        "frutas[2] = 'morgote'\n",
        "print(frutas)  \n",
        "\n",
        "'uva' in frutas\n",
        "'morgote' in frutas"
      ],
      "metadata": {
        "id": "0cqNBH4jRu4F"
      },
      "execution_count": null,
      "outputs": []
    },
    {
      "cell_type": "code",
      "source": [
        "for num,fruta in enumerate(frutas):\n",
        "  print(num, fruta)\n",
        "  frutas[num] = fruta.upper() \n",
        "\n"
      ],
      "metadata": {
        "id": "nMgnNufkczKK"
      },
      "execution_count": null,
      "outputs": []
    },
    {
      "cell_type": "code",
      "source": [
        "i = 0\n",
        "for fruta in frutas:\n",
        "  frutas[i] = fruta.lower()\n",
        "  i +=1\n",
        "print(frutas)"
      ],
      "metadata": {
        "id": "IaykmunChJlL"
      },
      "execution_count": null,
      "outputs": []
    },
    {
      "cell_type": "markdown",
      "source": [
        "#Tuplas"
      ],
      "metadata": {
        "id": "WL3Ap20yX9J_"
      }
    },
    {
      "cell_type": "code",
      "source": [
        "times = ('santos', 'real madrid', 'milan', 'liverpool', 'bayern')\n",
        "#type(times)\n",
        "\n",
        "for num,time in enumerate(times):\n",
        "  print(num,'-', time)\n",
        "  print('-'*30)"
      ],
      "metadata": {
        "id": "e57o5l42X_xq"
      },
      "execution_count": null,
      "outputs": []
    },
    {
      "cell_type": "markdown",
      "source": [
        "#Dicionário"
      ],
      "metadata": {
        "id": "dla8Dz8Rhjeb"
      }
    },
    {
      "cell_type": "code",
      "source": [
        "dicionario = {\"nome\": \"julio\", \"idade\": 32, \"time\": \"santos\", \"cor\": \"Amarelo\", \"altura\": 1.78, \"peso\": 90}\n",
        "dicionario['nome']"
      ],
      "metadata": {
        "id": "auukz30shmhj"
      },
      "execution_count": null,
      "outputs": []
    },
    {
      "cell_type": "code",
      "source": [
        "dicionario.keys()"
      ],
      "metadata": {
        "id": "WBNC_nCYi1gK"
      },
      "execution_count": null,
      "outputs": []
    },
    {
      "cell_type": "code",
      "source": [
        "dicionario.values()"
      ],
      "metadata": {
        "id": "Y5FdfgdZi8If"
      },
      "execution_count": null,
      "outputs": []
    },
    {
      "cell_type": "code",
      "source": [
        "dicionario.items()"
      ],
      "metadata": {
        "id": "HMDnQvuOjBZx"
      },
      "execution_count": null,
      "outputs": []
    },
    {
      "cell_type": "code",
      "source": [
        "for key in dicionario.keys():\n",
        "  print(key)"
      ],
      "metadata": {
        "id": "rDBndOgvja3a"
      },
      "execution_count": null,
      "outputs": []
    },
    {
      "cell_type": "code",
      "source": [
        "for value in dicionario.values():\n",
        "  print(value)"
      ],
      "metadata": {
        "id": "c1K9sd7mj1tL"
      },
      "execution_count": null,
      "outputs": []
    },
    {
      "cell_type": "code",
      "source": [
        "for key, value in dicionario.items():\n",
        "  print(key, ':', value)"
      ],
      "metadata": {
        "id": "6VJsOABPkKt-"
      },
      "execution_count": null,
      "outputs": []
    },
    {
      "cell_type": "code",
      "source": [
        "dicionario[\"pai\"] = 'vanderlei'"
      ],
      "metadata": {
        "id": "MbiqdVcokuBK"
      },
      "execution_count": null,
      "outputs": []
    },
    {
      "cell_type": "code",
      "source": [
        "dicionario[\"peso\"] = 88"
      ],
      "metadata": {
        "id": "Npd61g7qk82E"
      },
      "execution_count": null,
      "outputs": []
    },
    {
      "cell_type": "code",
      "source": [
        "dicionario"
      ],
      "metadata": {
        "id": "yBUet2d7lJEd"
      },
      "execution_count": null,
      "outputs": []
    },
    {
      "cell_type": "markdown",
      "source": [
        "33.\tELABORE UM ALGORITMO QUE DADA A IDADE DE UM NADADOR CLASSIFICA- O EM UMA DAS SEGUINTES CATEGORIAS: INFANTIL A = 5 - 7 ANOS, INFANTIL B = 8 - 10 ANOS, JUVENIL A = 1 1 - 13 ANOS, JUVENIL B = 14 - 17 ANOS, ADULTO = MAIORES DE 18 ANOS."
      ],
      "metadata": {
        "id": "bLxIvlkAmXUK"
      }
    },
    {
      "cell_type": "code",
      "source": [
        "idade = int(input(\"Digite a idade do nadador \"))\n",
        "idade_nadador = {\n",
        "    \"Infantil A\": [5,6,7],\n",
        "    \"Infantil B\": [8,9,10],\n",
        "    \"Juvenil A\": [11,12,13],\n",
        "    \"Juvenil B\": [14,15,16,17],\n",
        "    \"Adulto\": [x for x in range(18,101)]\n",
        "}\n",
        "for key,value in idade_nadador.items():\n",
        "  if idade in value:\n",
        "    print(key)"
      ],
      "metadata": {
        "id": "qA-JTtAimWwr"
      },
      "execution_count": null,
      "outputs": []
    },
    {
      "cell_type": "markdown",
      "source": [
        "###44 - FAÇA UM PROGRAMA QUE IMPRIME A SOMA DE TODOS OS NÚMEROS PARES ENTRE DOIS NÚMEROS QUAISQUER, INCLUINDO- OS"
      ],
      "metadata": {
        "id": "Z16re9KsCpCx"
      }
    },
    {
      "cell_type": "code",
      "source": [
        "num1 = input(\"Digite um numero: \")\n",
        "num2 = input(\"Digite um numero: \")\n",
        "total = 0\n",
        "if int(num1) < int(num2):\n",
        "    for i in range(int(num1), int(num2) +1):\n",
        "      if i % 2 == 0:\n",
        "        total += i\n",
        "    print(f'A soma de todos os numeros pares entre {num1} e {num2} é {total}')\n",
        "elif int(num1) > int(num2):\n",
        "  for i in range(int(num2), int(num1) +1):\n",
        "    if i % 2 == 0:\n",
        "      total += i\n",
        "  print(f'A soma de todos os numeros pares entre {num1} e {num2} é {total}')\n",
        "elif int(num1) == int(num2):\n",
        "  print(f'Numeros Iguais')\n",
        "\n"
      ],
      "metadata": {
        "id": "JJnYUTZrCwVi"
      },
      "execution_count": null,
      "outputs": []
    },
    {
      "cell_type": "markdown",
      "source": [
        "#### 45 - FAÇA UM PROGRAMA QUE CALCULE O FATORIAL DE UM NÚMERO"
      ],
      "metadata": {
        "id": "hdfYh53AHO9U"
      }
    },
    {
      "cell_type": "code",
      "source": [
        "num = int(input(\"Digite um numero: \"))\n",
        "res=1\n",
        "for i in range(1,num+1):\n",
        "  res *= i\n",
        "print(f'Fatorial de {num} é {res}')\n"
      ],
      "metadata": {
        "id": "dZd88eR8HUHL"
      },
      "execution_count": null,
      "outputs": []
    },
    {
      "cell_type": "markdown",
      "source": [
        "####46 - FAÇA UM PROGRAMA QUE DETERMINE O MOSTRE OS CINCO PRIMEIROS MÚLTIPLOS DE  3, CONSIDERANDO NÚMEROS MAIORES QUE 0.\n"
      ],
      "metadata": {
        "id": "OZNSbOurMFLt"
      }
    },
    {
      "cell_type": "code",
      "source": [
        "\n",
        "for i in range(1,6):\n",
        "  print(f'Os cincos primeiros numeros multiplos de 3 são: 3 x {i} = {i * 3} ')"
      ],
      "metadata": {
        "id": "aPwokLJlMKlN"
      },
      "execution_count": null,
      "outputs": []
    },
    {
      "cell_type": "markdown",
      "source": [
        "####47 - FAÇA UM ALGORITMO UTILIZANDO O COMANDO WHILE QUE MOSTRA UMA CONTAGEM REGRESSIVA NA TELA, INICIANDO EM 10 E TERMINANDO EM  0 . MOSTRAR UMA MENSAGEM “ FIM!”  APÓS A CONTAGEM.\n"
      ],
      "metadata": {
        "id": "v3WaKx5GNqbN"
      }
    },
    {
      "cell_type": "code",
      "source": [
        "contador = 11\n",
        "while contador > 0:\n",
        "  contador -= 1\n",
        "  if contador == -1:\n",
        "    break\n",
        "  print(contador)\n",
        "print('FIM!')\n",
        "  "
      ],
      "metadata": {
        "id": "_EMOqxfHNudc"
      },
      "execution_count": null,
      "outputs": []
    },
    {
      "cell_type": "markdown",
      "source": [
        "####48 - FAÇA UM PROGRAMA QUE PEÇA AO USUÁRIO PARA DIGITAR 10 VALORES E SOME- OS."
      ],
      "metadata": {
        "id": "uNhYAfChPca-"
      }
    },
    {
      "cell_type": "code",
      "source": [
        "soma = []\n",
        "total = 0\n",
        "while True:\n",
        "  num = input(\"Digite um numero: \")\n",
        "  try:\n",
        "    soma.append(float(num))\n",
        "    if len(soma) == 10:\n",
        "      for i in soma:\n",
        "        total += i\n",
        "      print(f'A soma de todos os numeros do array é {total}')\n",
        "      break\n",
        "  except ValueError:\n",
        "    print('Erro - Digite um numero')"
      ],
      "metadata": {
        "id": "s1s34JnuPh7l"
      },
      "execution_count": null,
      "outputs": []
    },
    {
      "cell_type": "markdown",
      "source": [
        "#### 49 - FAÇA UM PROGRAMA QUE LEIA 10 INTEIROS E IMPRIMA SUA MÉDIA"
      ],
      "metadata": {
        "id": "_hLl0_WkRQfO"
      }
    },
    {
      "cell_type": "code",
      "source": [
        "media = []\n",
        "mediaTotal = 0\n",
        "while True:\n",
        "  num = input(\"Digite uma nota: \")\n",
        "  try:\n",
        "    media.append(int(num))\n",
        "    if len(media) == 10:\n",
        "      for i in media:\n",
        "        mediaTotal += i\n",
        "      print(f'A media de todos os numeros do array é {mediaTotal / len(media)}')\n",
        "      break\n",
        "  except ValueError:\n",
        "    print('Erro - Digite uma nota')"
      ],
      "metadata": {
        "id": "xIKwMSWERYqG"
      },
      "execution_count": null,
      "outputs": []
    },
    {
      "cell_type": "markdown",
      "source": [
        "####50 - FAÇA UM PROGRAMA QUE LEIA 10 INTEIROS POSITIVOS, IGNORANDO NAO POSITIVOS, E IMPRIMA SUA MÉDIA."
      ],
      "metadata": {
        "id": "ZWT3HnDlSldO"
      }
    },
    {
      "cell_type": "code",
      "source": [
        "mediaPositivos = []\n",
        "totalPositivos = 0\n",
        "while True:\n",
        "  nota = input(\"Digite uma nota: \")\n",
        "  try:\n",
        "    if int(nota) <= 0:\n",
        "      print(\"Nota invalida\")\n",
        "    else:\n",
        "      mediaPositivos.append(int(nota))\n",
        "      if len(mediaPositivos) == 10:\n",
        "        for i in mediaPositivos:\n",
        "          totalPositivos += i\n",
        "        print(f'A media de notas é {totalPositivos / len(mediaPositivos)}')\n",
        "        break\n",
        "  except ValueError:\n",
        "    print('Erro - Digite uma nota')"
      ],
      "metadata": {
        "id": "kvfMAGwmSpXH"
      },
      "execution_count": null,
      "outputs": []
    },
    {
      "cell_type": "markdown",
      "source": [
        "####51 - FAÇA UM PROGRAMA QUE LEIA UM NÚMERO INTEIRO N E DEPOIS IMPRIMA OS N PRIMEIROS NUMEROS NATURAIS ÍMPARES."
      ],
      "metadata": {
        "id": "40A3v9R3VYvD"
      }
    },
    {
      "cell_type": "code",
      "source": [
        "num = input(\"Digite um numero: \")\n",
        "try:\n",
        "  if int(num) <= 0:\n",
        "    print('Digite um numero positivo')\n",
        "  else:\n",
        "    for i in range(1,  int(num) + 1):\n",
        "      if i % 2 == 1:\n",
        "        print(i)\n",
        "        break\n",
        "except ValueError:\n",
        "  print(\"Erro digite um numero\")"
      ],
      "metadata": {
        "id": "X42EjudzYQcG"
      },
      "execution_count": null,
      "outputs": []
    },
    {
      "cell_type": "markdown",
      "source": [
        "####52 - FAÇA UM PROGRAMA QUE CALCULE E MOSTRE A SOMA DOS 50 PRIMEIROS NUMEROS PARES"
      ],
      "metadata": {
        "id": "RpazFOtdbzLV"
      }
    },
    {
      "cell_type": "code",
      "source": [
        "total = 0\n",
        "for i in range(1, 101):\n",
        "  if i % 2 == 0:\n",
        "    total += i\n",
        "print(f'A Soma dos 50 primeiros numeros pares é {total}')"
      ],
      "metadata": {
        "id": "NmU3WzCdb4sF"
      },
      "execution_count": null,
      "outputs": []
    },
    {
      "cell_type": "markdown",
      "source": [
        "####53 - IMPRIMA OS PRIMEIROS 10 NÚMEROS NATURAIS USANDO O LOOP WHILE.\n"
      ],
      "metadata": {
        "id": "17SPxIkcD8iW"
      }
    },
    {
      "cell_type": "code",
      "source": [
        "contador = 1\n",
        "while contador <=10:\n",
        "  print(contador)\n",
        "  contador += 1\n",
        "print(\"Fim\")"
      ],
      "metadata": {
        "id": "SULc5Xz-EQ8O"
      },
      "execution_count": null,
      "outputs": []
    },
    {
      "cell_type": "markdown",
      "source": [
        "####54 - IMPRIMIR TABUADA DE   UM   DETERMINADO NÚMERO."
      ],
      "metadata": {
        "id": "y3EPsDw-E3WM"
      }
    },
    {
      "cell_type": "code",
      "source": [
        "numero = int(input(\"Digite um numero: \"))\n",
        "for i in range(1,11):\n",
        "  print(f\"{numero} x {i} = {(numero * i)}\")"
      ],
      "metadata": {
        "id": "OTAr2XLFE6WE"
      },
      "execution_count": null,
      "outputs": []
    },
    {
      "cell_type": "markdown",
      "source": [
        "####55 - EXIBIR NÚMEROS DE   - 10   A  -1 USANDO O  LOOP FOR. EXIBIR UMA MENSAGEM \" FEITOOOO\" APÓS A EXECUÇÃO BEM- SUCEDIDA DO LOOP FOR \n"
      ],
      "metadata": {
        "id": "h88UToVgFhc-"
      }
    },
    {
      "cell_type": "code",
      "source": [
        "for num in range(-10, 0):\n",
        "  print(num)\n",
        "print(\"Feitoooo\")"
      ],
      "metadata": {
        "id": "DpJbT2LrFvaj"
      },
      "execution_count": null,
      "outputs": []
    },
    {
      "cell_type": "markdown",
      "source": [
        "####56 -  LEIA UM NÚMERO INTEIRO E MOSTRE O CUBO ATÉ ESSE NÚMERO."
      ],
      "metadata": {
        "id": "o3DzB3PnI4bl"
      }
    },
    {
      "cell_type": "code",
      "source": [
        "numero = int(input(\"Digite um numero: \"))\n",
        "numCubo = numero ** 3\n",
        "for num in range(numCubo, numero - 1, -1):\n",
        "  print(num)"
      ],
      "metadata": {
        "id": "CltyKxLYJBXz"
      },
      "execution_count": null,
      "outputs": []
    },
    {
      "cell_type": "markdown",
      "source": [
        "####57 - FAÇA UM PROGRAMA QUE LEIA UM NÚMERO INTEIRO POSITIVO N E IMPRIMA TODOS OS NÚMEROS NATURAIS DE 0 ATÉ N EM ORDEM DECRESCENTE "
      ],
      "metadata": {
        "id": "PxxJ4LI3J_09"
      }
    },
    {
      "cell_type": "code",
      "source": [
        "numero = int(input(\"Digite um numero: \"))\n",
        "if numero > 0:\n",
        "  for num in range(numero, -1, -1):\n",
        "    print(num)\n",
        "else:\n",
        "  print(\"Por favor digite um numero maior que zero\")"
      ],
      "metadata": {
        "id": "Nb7J34o4KEVN"
      },
      "execution_count": null,
      "outputs": []
    },
    {
      "cell_type": "markdown",
      "source": [
        "####58 - FAÇA UM PROGRAMA QUE LEIA UM NUMERO INTEIRO POSITIVO N E IMPRIMA TODOS OS NÚMEROS NATURAIS DE 0 ATÉ N EM ORDEM CRESCENTE."
      ],
      "metadata": {
        "id": "W1PSwIUPLCkc"
      }
    },
    {
      "cell_type": "code",
      "source": [
        "numero = int(input(\"Digite um numero: \"))\n",
        "if numero > 0:\n",
        "  for num in range(0, numero + 1, 1):\n",
        "    print(num)\n",
        "else:\n",
        "  print(\"Por favor digite um numero maior que zero\")"
      ],
      "metadata": {
        "id": "07mRfh_kLGws"
      },
      "execution_count": null,
      "outputs": []
    },
    {
      "cell_type": "markdown",
      "source": [
        "####59 - LEIA UM NÚMERO INTEIRO, E CONTE O NÚMERO TOTAL DE DÍGITOS. EX: 3 (1 DÍGITO), 10 ( 2 DÍGITOS), 233 ( 3 DÍGITOS), ETC."
      ],
      "metadata": {
        "id": "g5lq_N-zLTRN"
      }
    },
    {
      "cell_type": "code",
      "source": [
        "numero = int(input(\"Digite um numero: \"))\n",
        "if numero < 0:\n",
        "  numeroNeg = abs(numero)\n",
        "  if len(str(numeroNeg)) == 1:\n",
        "    print(f'{numero} possui {len(str(numeroNeg))} dígito')\n",
        "  else:\n",
        "    print(f'{numero} possui {len(str(numeroNeg))} dígitos')\n",
        "else:\n",
        "  if len(str(numero)) == 1:\n",
        "    print(f'{numero} possui {len(str(numero))} dígito')\n",
        "  else:\n",
        "    print(f'{numero} possui {len(str(numero))} dígitos')"
      ],
      "metadata": {
        "id": "bGK-ja9aLgok"
      },
      "execution_count": null,
      "outputs": []
    },
    {
      "cell_type": "markdown",
      "source": [
        "####60 - FAÇA UM PROGRAMA QUE IMPRIME A SOMA DE TODOS OS NÚMEROS ÍMPARES ENTRE DOIS NÚMEROS QUAISQUER, INCLUINDO- OS.\n"
      ],
      "metadata": {
        "id": "IhbCbewZN0XG"
      }
    },
    {
      "cell_type": "code",
      "source": [
        "# impares = []\n",
        "# numero1 = int(input(\"Digite um numero: \"))\n",
        "# numero2 = int(input(\"Digite outro numero: \"))\n",
        "# if numero1 < numero2:\n",
        "#   for num in range(numero1, numero2 + 1, 1):\n",
        "#     if num % 2 != 0:\n",
        "#       impares.append(num)\n",
        "#       totalImpares = sum(impares)\n",
        "#   print(f'A soma dos numeros impares entre {numero1} e {numero2} é {totalImpares}')\n",
        "# elif numero2 < numero1:\n",
        "#   for num in range(numero2, numero1 + 1, 1):\n",
        "#     if num % 2 != 0:\n",
        "#       impares.append(num)\n",
        "#       totalImpares = sum(impares)\n",
        "#   print(f'A soma dos numeros impares entre {numero2} e {numero1} é {totalImpares}')\n",
        "list_impares = []\n",
        "primnum = int(input(\"Digite o primeiro numero: \"))\n",
        "segnum = int(input(\"Digite o segundo numero: \"))\n",
        "for num in range(primnum, segnum + 1):\n",
        "  if num % 2 != 0:\n",
        "    list_impares.append(num)\n",
        "print(sum(list_impares))"
      ],
      "metadata": {
        "id": "H3Znb-6VOLEl"
      },
      "execution_count": null,
      "outputs": []
    },
    {
      "cell_type": "code",
      "source": [
        "list_impares = []\n",
        "# primnum = int(input(\"Digite o primeiro numero: \"))\n",
        "# segnum = int(input(\"Digite o segundo numero: \"))\n",
        "num = 4\n",
        "\n",
        "\n",
        "for divisor in range(2, num):\n",
        "  #print(divisor)\n",
        "  if num % divisor == 0:\n",
        "    print(num)\n",
        "  else:\n",
        "    list_impares.append(num)\n",
        "    print(list_impares)\n",
        "\n",
        "#print(list_impares)\n",
        "\n"
      ],
      "metadata": {
        "id": "ZQNXRekzdw4s",
        "outputId": "58fd1690-8973-4d36-eb0f-f9f1e72e43df",
        "colab": {
          "base_uri": "https://localhost:8080/"
        }
      },
      "execution_count": 104,
      "outputs": [
        {
          "output_type": "stream",
          "name": "stdout",
          "text": [
            "4\n",
            "[4]\n"
          ]
        }
      ]
    },
    {
      "cell_type": "code",
      "source": [
        "list_impares = []\n",
        "primnum = int(input(\"Digite o primeiro numero: \"))\n",
        "segnum = int(input(\"Digite o segundo numero: \"))\n",
        "for num in range(primnum, segnum + 1):\n",
        "  list_impares.append(num)\n",
        "  for n in range(2, num):\n",
        "    if num % n == 0:\n",
        "      if num in list_impares:\n",
        "        list_impares.remove(num)     \n",
        "      if 1 in list_impares:\n",
        "        list_impares.remove(1)  \n",
        "print(sum(list_impares))\n"
      ],
      "metadata": {
        "id": "1XZ2g8u7ma5V"
      },
      "execution_count": null,
      "outputs": []
    },
    {
      "cell_type": "markdown",
      "source": [
        "####61 - ESCREVA UM PROGRAMA PARA SOMAR TODOS OS ITENS EM UMA LISTA."
      ],
      "metadata": {
        "id": "w6FWLeuEMH6o"
      }
    },
    {
      "cell_type": "code",
      "source": [
        "array = [1,2,3,4,5]\n",
        "total = 0\n",
        "for i in array:\n",
        "  total += i\n",
        "print(f'A soma do itens da lista é {total}')"
      ],
      "metadata": {
        "id": "MI388eyRMdqn"
      },
      "execution_count": null,
      "outputs": []
    },
    {
      "cell_type": "markdown",
      "source": [
        "####62 - ESCREVA UM PROGRAMA PARA MULTIPLICAR TODOS OS ITENS DE UMA LISTA"
      ],
      "metadata": {
        "id": "qIyjWN-cN0MC"
      }
    },
    {
      "cell_type": "code",
      "source": [
        "array = [1,2,3,4]\n",
        "total = 1\n",
        "for i in array:\n",
        "  total *= i\n",
        "print(f'O valor da multiplicação dos itens é: {total}')"
      ],
      "metadata": {
        "id": "PPkIhm9gN5wC",
        "outputId": "4f4359ac-9753-49f3-cca6-fe5a5ae74767",
        "colab": {
          "base_uri": "https://localhost:8080/"
        }
      },
      "execution_count": 163,
      "outputs": [
        {
          "output_type": "stream",
          "name": "stdout",
          "text": [
            "O valor da multiplicação dos itens é: 24\n"
          ]
        }
      ]
    },
    {
      "cell_type": "markdown",
      "source": [
        "####63 - ESCREVA UM PROGRAMA PARA OBTER O MAIOR NÚMERO DE UMA LISTA.\n"
      ],
      "metadata": {
        "id": "ktnFbCclQ46A"
      }
    },
    {
      "cell_type": "code",
      "source": [
        "array = [1,2,3,4]\n",
        "print(f'O maior elemento da lista é: {max(array)}')"
      ],
      "metadata": {
        "id": "7KiThgshQ9ha"
      },
      "execution_count": null,
      "outputs": []
    },
    {
      "cell_type": "markdown",
      "source": [
        "####64 - ESCREVA UM PROGRAMA PARA OBTER O MENOR NÚMERO DE UMA LISTA."
      ],
      "metadata": {
        "id": "H1AIqZCMSgPe"
      }
    },
    {
      "cell_type": "code",
      "source": [
        "array = [-5,1,2,3,4,5]\n",
        "print(f'O menor elemento da lista é: {min(array)}')"
      ],
      "metadata": {
        "id": "Vkk7ghATSjUZ"
      },
      "execution_count": null,
      "outputs": []
    },
    {
      "cell_type": "markdown",
      "source": [
        "####65 - ESCREVA UM PROGRAMA PARA REMOVER DUPLICATAS DE UMA LISTA."
      ],
      "metadata": {
        "id": "HS2MT6foStpT"
      }
    },
    {
      "cell_type": "code",
      "source": [
        "array = [1,2,2,3,3,4,5,5,5]\n",
        "naoRepetidos = []\n",
        "for num in array:\n",
        "  if num not in naoRepetidos:\n",
        "    naoRepetidos.append(num)\n",
        "print(naoRepetidos)"
      ],
      "metadata": {
        "id": "eSiAFqwnSvfK"
      },
      "execution_count": null,
      "outputs": []
    },
    {
      "cell_type": "markdown",
      "source": [
        "####66 - ESCREVA UM PROGRAMA PARA COPIAR UMA LISTA PARA OUTRA.\n"
      ],
      "metadata": {
        "id": "G972yNGpWAXz"
      }
    },
    {
      "cell_type": "code",
      "source": [
        "nomes = [\"jose\", \"vitor\", \"joao\", \"pedro\", \"alex\", \"laura\"]\n",
        "nomesCopia = nomes.copy()\n",
        "nomesCopia.append(\"marilia\")\n",
        "print(nomesCopia)\n",
        "print(nomes)"
      ],
      "metadata": {
        "id": "L-2zLH8MWD5L"
      },
      "execution_count": null,
      "outputs": []
    },
    {
      "cell_type": "markdown",
      "source": [
        "####67 -\tESCREVA UM PROGRAMA QUE RECEBA DUAS LISTAS E RETORNE TRUE SE ELAS TIVEREM PELO MENOS UM ELEMENTO EM COMUM."
      ],
      "metadata": {
        "id": "l7kVbq7rYc3I"
      }
    },
    {
      "cell_type": "code",
      "source": [
        "nome1 = [1,2,3,4,5]\n",
        "nome2 = [6,7,8,9]\n",
        "\n",
        "for n1 in nome1:\n",
        "  if n1 in nome2:\n",
        "    print(True)\n"
      ],
      "metadata": {
        "id": "cKR7uWE6Yg83"
      },
      "execution_count": null,
      "outputs": []
    },
    {
      "cell_type": "markdown",
      "source": [
        "####68 - ESCREVA UM PROGRAMA PARA CRIAR UMA TUPLA."
      ],
      "metadata": {
        "id": "-7OuXSCwaBwk"
      }
    },
    {
      "cell_type": "code",
      "source": [
        "# arrayItens = []\n",
        "# print(f\"Se quiser encerrar o programa digite - sair\")\n",
        "# while True:\n",
        "#   try:\n",
        "#     item = input(\"Digite um item: \")\n",
        "#     if item == 'sair':\n",
        "#       print(\"programa encerrado\")\n",
        "#       print(tuplaItens)\n",
        "#       break\n",
        "#     arrayItens.append(item)\n",
        "#     tuplaItens = tuple(arrayItens)\n",
        "#     print(tuplaItens)\n",
        "#   except ValueError:\n",
        "#     print(\"Erro!!!\")\n",
        "tupla = (1,2,2,3,5)"
      ],
      "metadata": {
        "id": "Ho0W-umRaHJr"
      },
      "execution_count": null,
      "outputs": []
    },
    {
      "cell_type": "markdown",
      "source": [
        "####69 ESCREVA UM PROGRAMA PARA CRIAR UMA TUPLA COM DIFERENTES TIPOS DE DADOS."
      ],
      "metadata": {
        "id": "aopjqE9cx5hm"
      }
    },
    {
      "cell_type": "code",
      "source": [
        "# arrayItens = []\n",
        "# print(f\"Se quiser encerrar o programa digite - sair\")\n",
        "# while True:\n",
        "#   try:\n",
        "#     item = input(\"Digite um item: \")\n",
        "#     tipo_dado = input(\"Qual o tipo de dados: \")\n",
        "#     if tipo_dado == 'number':\n",
        "#       arrayItens.append(int(item))\n",
        "#     if tipo_dado == 'string':\n",
        "#       arrayItens.append(str(item)) \n",
        "#     if tipo_dado == 'float':\n",
        "#       arrayItens.append(float(item))\n",
        "#     if item == 'sair':\n",
        "#       print(\"programa encerrado\")\n",
        "#       print(tuplaItens)\n",
        "#       break\n",
        "#     # arrayItens.append(item)\n",
        "#     tuplaItens = tuple(arrayItens)\n",
        "#     print(tuplaItens)\n",
        "#   except ValueError:\n",
        "#     print(\"Erro!!!\")\n",
        "\n",
        "tupla_itens = (1, 'jose', 1.5, ['jose', 2, 19])"
      ],
      "metadata": {
        "id": "2FqWqrZAx5-W"
      },
      "execution_count": null,
      "outputs": []
    },
    {
      "cell_type": "markdown",
      "source": [
        "####70 - ESCREVA UM PROGRAMA PARA CRIAR UMA TUPLA COM NÚMEROS E IMPRIMIR UM ITEM."
      ],
      "metadata": {
        "id": "UZ7uJwCh1B4e"
      }
    },
    {
      "cell_type": "code",
      "source": [
        "tupla_numbers = (1,2,3,4)\n",
        "print(tupla_numbers[1])"
      ],
      "metadata": {
        "id": "v35zi5SX1HfV",
        "outputId": "fd6a6843-1622-480b-d64b-7b68478c42f3",
        "colab": {
          "base_uri": "https://localhost:8080/"
        }
      },
      "execution_count": 188,
      "outputs": [
        {
          "output_type": "stream",
          "name": "stdout",
          "text": [
            "2\n"
          ]
        }
      ]
    },
    {
      "cell_type": "markdown",
      "source": [
        "####71 -\tESCREVA UM PROGRAMA PARA ADICIONAR UM ITEM EM UMA TUPLA."
      ],
      "metadata": {
        "id": "KkQzuU8a1rMp"
      }
    },
    {
      "cell_type": "code",
      "source": [
        "tupla = ()\n",
        "lista = list(tupla)\n",
        "lista.append(1)\n",
        "tupla = tuple(lista)\n",
        "print(tupla)"
      ],
      "metadata": {
        "id": "ewPOiyLt19Uq"
      },
      "execution_count": null,
      "outputs": []
    },
    {
      "cell_type": "markdown",
      "source": [
        "#### 72 - ESCREVA UM PROGRAMA PARA OBTER O 4 º ELEMENTO E O ÚLTIMO DE UMA TUPLA."
      ],
      "metadata": {
        "id": "sqUtCxMK2xFQ"
      }
    },
    {
      "cell_type": "code",
      "source": [
        "tupla = (1,'jose', 'vitor', 8, 'joao', 'pedro', 10, 17)\n",
        "print(tupla[4])\n",
        "print(tupla[-1])"
      ],
      "metadata": {
        "id": "NygQ1NqO201p",
        "outputId": "504fd09b-51ae-46e6-be4c-d2f70edbd520",
        "colab": {
          "base_uri": "https://localhost:8080/"
        }
      },
      "execution_count": 194,
      "outputs": [
        {
          "output_type": "stream",
          "name": "stdout",
          "text": [
            "joao\n",
            "17\n"
          ]
        }
      ]
    }
  ]
}